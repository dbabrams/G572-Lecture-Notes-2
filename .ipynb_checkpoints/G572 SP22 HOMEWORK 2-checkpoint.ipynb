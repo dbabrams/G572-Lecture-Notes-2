{
 "cells": [
  {
   "cell_type": "markdown",
   "metadata": {
    "colab_type": "text",
    "id": "Q7Q_otrwfARQ"
   },
   "source": [
    "<a id='Top'></a>\n",
    "# <center>Problem Set 1</center>\n",
    "\n",
    "## <center>Due February 2nd at 5:00 pm</center>"
   ]
  },
  {
   "cell_type": "markdown",
   "metadata": {
    "colab_type": "text",
    "id": "Kh-_zdSv1iC5"
   },
   "source": [
    "## <center><font color='blue'>Problem 1</font></center>"
   ]
  },
  {
   "cell_type": "markdown",
   "metadata": {
    "colab_type": "text",
    "id": "sMEYZqow1iC6"
   },
   "source": [
    "\n",
    "Evaluate the following expressions for $x = 2\\pi$:\n",
    "<ul>\n",
    "    <li>$y = e^x$</li>\n",
    "    <li>$y = cos(x)$</li>\n",
    "    <li>$y = ln(x)$ <b>(Note: natural log)</b></li>\n",
    "    <li>$y = log(x)$ <b>(Note: log base 10)</b></li>\n",
    "    <li>$y = \\sqrt x$</li>\n",
    "    <li>$y = x^3$</li>\n",
    "    \n",
    "</ul>\n",
    "\n",
    "Use the six Code cells below with the corresponding comment:"
   ]
  },
  {
   "cell_type": "code",
   "execution_count": 0,
   "metadata": {
    "colab": {},
    "colab_type": "code",
    "id": "7H_rBueg1iC7"
   },
   "outputs": [],
   "source": [
    "# y = e^x"
   ]
  },
  {
   "cell_type": "code",
   "execution_count": 0,
   "metadata": {
    "colab": {},
    "colab_type": "code",
    "id": "wR0ByIRs1iC-"
   },
   "outputs": [],
   "source": [
    "# y = cos(x)"
   ]
  },
  {
   "cell_type": "code",
   "execution_count": 0,
   "metadata": {
    "colab": {},
    "colab_type": "code",
    "id": "4eXsdwmJ1iDA"
   },
   "outputs": [],
   "source": [
    "# y = ln(x)"
   ]
  },
  {
   "cell_type": "code",
   "execution_count": 0,
   "metadata": {
    "colab": {},
    "colab_type": "code",
    "id": "AiGXasq41iDE"
   },
   "outputs": [],
   "source": [
    "# y = log(x)"
   ]
  },
  {
   "cell_type": "code",
   "execution_count": 0,
   "metadata": {
    "colab": {},
    "colab_type": "code",
    "id": "4ucmnllE1iDG"
   },
   "outputs": [],
   "source": [
    "# y = sqrt(x)"
   ]
  },
  {
   "cell_type": "code",
   "execution_count": 0,
   "metadata": {
    "colab": {},
    "colab_type": "code",
    "id": "16edBs1w1iDI"
   },
   "outputs": [],
   "source": [
    "# y = x^3"
   ]
  },
  {
   "cell_type": "markdown",
   "metadata": {
    "colab_type": "text",
    "id": "1bf3XUA01iDV"
   },
   "source": [
    "## <center><font color = \"blue\">Problem 2</font></center>"
   ]
  },
  {
   "cell_type": "markdown",
   "metadata": {
    "colab_type": "text",
    "id": "Vy2mwOBf1iDW"
   },
   "source": [
    "\n",
    "A sand aquifer extends under Champaign-Urbana:\n",
    "<ul>\n",
    "    <li>$k = 0.001$ $cm/s$</li>\n",
    "    <li>$n = 0.2$</li>\n",
    "    <li>$h1 = 205$ $m$</li>\n",
    "    <li>$h2 = 210$ $m$</li>\n",
    "    <li>$\\Delta l = 1$ $km$</li>\n",
    "</ul>\n",
    "\n",
    "Where $k$ is the hydraulic conductivity, $n$ is the porosity, $h1$ and $h2$ are the heads at a distance of $\\Delta l$ apart.\n",
    "\n",
    "Write codes that calculate: 1) the hydraulic gradient, 2) specific discharge, 3) groundwater velocity, and 4) transit time of groundwater over the distance $\\Delta l$. Use the four Code Cells below.\n",
    "\n",
    "If you would like a refresher on Darcy's Law, check out this video: https://www.youtube.com/watch?v=Pmhg2fw722U. If you just want a quick overview and the equations you will need to solve most of these, jump to `27:00`. However, if you want a more thorough overview of Darcy's Law, the video does a nice job. <i>This video will not give yoou the equation to determine the transit time of groundwater, but think back to basic algebra for the relationship between time, distance, and velocity.</i> \n",
    "\n",
    "<b>Pay attention to units of the variables assigned above and that are requested below!!!!</b>"
   ]
  },
  {
   "cell_type": "code",
   "execution_count": 0,
   "metadata": {
    "colab": {},
    "colab_type": "code",
    "id": "LSTCk9X91iDX"
   },
   "outputs": [],
   "source": [
    "# hydraulic gradient (no units)\n"
   ]
  },
  {
   "cell_type": "code",
   "execution_count": 0,
   "metadata": {
    "colab": {},
    "colab_type": "code",
    "id": "SzC3ARba1iDY",
    "scrolled": true
   },
   "outputs": [],
   "source": [
    "# specific discharge (m/day)\n"
   ]
  },
  {
   "cell_type": "code",
   "execution_count": 0,
   "metadata": {
    "colab": {},
    "colab_type": "code",
    "id": "fuB2AXm91iDa"
   },
   "outputs": [],
   "source": [
    "# groundwater velocity (m/day)\n"
   ]
  },
  {
   "cell_type": "code",
   "execution_count": 0,
   "metadata": {
    "colab": {},
    "colab_type": "code",
    "id": "Xrgt40EI1iDc"
   },
   "outputs": [],
   "source": [
    "# transit time (years)\n"
   ]
  },
  {
   "cell_type": "markdown",
   "metadata": {
    "colab_type": "text",
    "id": "uXzesfaUfARU"
   },
   "source": [
    "<a id='Top'></a>\n",
    "# <center><font color='blue'>Problem 3</font></center>\n",
    "\n",
    "<b>Background Info: </b>In this problem set, you are going to be working with data related the deep sandstone aquifer of northeastern Illinois. This aquifer has been in the local news around Joliet and Aurora recently because of large and continuing declines in heads due to 150+ years of unsustainable withdrawals. [Click here](https://www.ideals.illinois.edu/bitstream/handle/2142/99644/gwavailneildeepaquiferfactsheet2_2015-02.pdf?sequence=2&isAllowed=y) to read a short paper discussing the issue, and [click here](https://www.theherald-news.com/2017/03/28/joliet-explores-options-on-future-water-supplies/ax3gcyb/) to read a recent local news article. Many communities and industries in this region, particularly Will, Kendall, Kane, and McHenry Counties, rely on deep sandstone wells as their source of water. Withdrawals from the sandstone increased fairly steadily from the mid-1800s to 1980, when some communities in Cook, DuPage, and Lake Counties started to switch to Lake Michigan water. From 1980 to 2000, demands decreased due to these switches. Since then withdrawals have been increasing at a slower rate."
   ]
  },
  {
   "cell_type": "markdown",
   "metadata": {
    "colab_type": "text",
    "id": "nOvpCqH2fARX"
   },
   "source": [
    "<b>The Data: </b>Here are the water levels at two wells, `Elk Grove Village #2` and `Joliet #10`. Elk Grove Village, which is next to O'Hare International Airport, is one of the many Cook County communities that switched off the sandstone in the 1980s. Joliet is in Will County, where sandstone usage persists. In fact, `Joliet #10` is located at the center of the cone of depression."
   ]
  },
  {
   "cell_type": "code",
   "execution_count": 0,
   "metadata": {
    "colab": {},
    "colab_type": "code",
    "id": "E9qNC9UgfARj"
   },
   "outputs": [],
   "source": [
    "# do not modify this cell, it contains the information you need to solve this problem\n",
    "\n",
    "# Joliet #10\n",
    "j10time = [1970, 1973, 1975, 1976, 1985, 1991, 1995, 2007, 2014, 2017] # Time in years\n",
    "j10dtw = [510, 570, 605, 630, 522, 749, 845, 813, 808, 887] # Depth to Water in ft below land surface\n",
    "j10_ls = 605 # Land Surface in ft above MSL\n",
    "\n",
    "# Elk Grove Village #2\n",
    "eg2time = [1971,1973,1974,1978,1979,1980,1985,1991,1995,2000,2006,2007,2014] # Time in years\n",
    "eg2dtw = [617,728,739,791,787,834,924,715,655,590,560,520,500] # Depth to Water in ft below land surface\n",
    "eg2_ls = 681 # Land Surface in ft above MSL"
   ]
  },
  {
   "cell_type": "markdown",
   "metadata": {},
   "source": [
    "<b>Your Task: </b>The water levels are reported at depth to water in feet (`j10dtw` and `eg2dtw`). However, when we develop a model, we need to have a single datum for comparison. To do that, we need to calculate a groundwater head above mean sea level. We can do that as long as we have a land surface elevation with respect to mean sea level, which we do (`j10_ls` and `eg2_ls`). <b>Your task is to calculate the head above mean sea level at Joliet 10 and Elk Grove Village 2 for all elements in the respective lists.</b>\n",
    "\n",
    "You will be doing more with this data next week, but for now, starting thinking about what these water levels are telling you about the aquifer. You don't need to do any written analysis this week, though."
   ]
  },
  {
   "cell_type": "code",
   "execution_count": null,
   "metadata": {},
   "outputs": [],
   "source": []
  },
  {
   "cell_type": "markdown",
   "metadata": {},
   "source": [
    "<a id='Top'></a>\n",
    "# <center><font color='blue'>Submission</font></center>\n",
    "\n",
    "Please upload this assignment to a private GitHub repository by February 2nd at 5:00 pm. Add me as a collaborator (my GitHub user ID is `dbabrams`). For details on how to set up a private GitHub repository, please watch this brief video: https://www.youtube.com/watch?v=Pmhg2fw722U"
   ]
  }
 ],
 "metadata": {
  "colab": {
   "name": "Problem Set 2.ipynb",
   "provenance": []
  },
  "kernelspec": {
   "display_name": "Python 3",
   "language": "python",
   "name": "python3"
  },
  "language_info": {
   "codemirror_mode": {
    "name": "ipython",
    "version": 3
   },
   "file_extension": ".py",
   "mimetype": "text/x-python",
   "name": "python",
   "nbconvert_exporter": "python",
   "pygments_lexer": "ipython3",
   "version": "3.8.5"
  }
 },
 "nbformat": 4,
 "nbformat_minor": 1
}
