{
 "cells": [
  {
   "cell_type": "markdown",
   "metadata": {
    "colab_type": "text",
    "id": "flsu_eek1Sfe"
   },
   "source": [
    "# Week 2 Lecture Notes: Jupyter Notebook Primer, Data Types, Python as a Calculator, Loops, and Lists\n",
    "\n",
    "<ul>\n",
    "    <li><a href='#JupyterNotebook'>I. Jupyter Notebook</a></li>\n",
    "    <li><a href='#FirstPythonCode'>II. First Python Code</a></li>\n",
    "    <li><a href='#IntFloat'>III. Integers and Floats</a></li>\n",
    "    <li><a href='#ModPackLib'>IV. Modules, Packages, and Libraries</a></li>\n",
    "    <li><a href='#Lists'>V. Lists</a></li>\n",
    "    <li><a href='#Index'>VI. Indexing and Slicing</a></li>\n",
    "    <li><a href='#LoopList'>VII. Looping through a List</a></li>\n",
    "</ul>"
   ]
  },
  {
   "cell_type": "markdown",
   "metadata": {
    "colab_type": "text",
    "id": "s_R_eTVZ1Sfg"
   },
   "source": [
    "<a id='JupyterNotebook'></a>\n",
    "# I. Jupyter Notebook\n",
    "Jupyter Notebook is an open-source web application that allows the creation and sharing of documents that contain live code, equations, visualizations and narrative text. More details at: https://jupyter.org/.\n",
    "\n",
    "Some introductory lecture material covering basic Python concepts will be presented in Jupyter Notebook format. This will allow for a week's `reading material` to be integrated with a coding environment. I strongly recommend that you explore the code on your own. For longer codes, we need more powerful troubleshooting capabilities, so we will be using the integrated development environment (IDE) Spyder as well."
   ]
  },
  {
   "cell_type": "markdown",
   "metadata": {
    "colab_type": "text",
    "id": "kEITskPs1Sfh"
   },
   "source": [
    "### Cells \n",
    "\n",
    "All content in Jupyter Notebook is written within a cell. There are two types of cells that we will use this semester:\n",
    "<ul>\n",
    "    <li> Code: Contains Python code, or another language depending on the selected kernel</li>\n",
    "    <li> Markdown: Markdown is a text-to-HTML conversion tool for web writers. Contains explanatory text</li>\n",
    "</ul>\n",
    "\n",
    "There is a third cell type, `Raw`, but we will not be using it this semester. \n"
   ]
  },
  {
   "cell_type": "markdown",
   "metadata": {
    "colab_type": "text",
    "id": "MRwud5J41Sfi"
   },
   "source": [
    "### Markdown Cells\n",
    "\n",
    "If you click on this paragraph <b>once</b>, you will a cell outlined by a rectangle. _This is a Markdown cell._ There are a number of tags that can be used within a Markdown cell to control formatting (italicize, bold, change font color, etc.). <b><font color='green'>Double-click in this cell to see an example of Markdown tags, then press `Ctrl+Enter` to run the cell.</font></b>\n",
    "\n",
    "More details on Markdown can be found at: https://daringfireball.net/projects/markdown/. \n"
   ]
  },
  {
   "cell_type": "markdown",
   "metadata": {
    "colab_type": "text",
    "id": "qJDATsn91Sfi"
   },
   "source": [
    "### Adding new cells is simple.\n",
    "You can easily add a new cell simply by pressing \"b\". The new cell will be added <b>below</b> the currently selected cell. <b>Note that you cannot use this shortcut if you are currently editing a cell.</b> Conversely, if you want to add a cell above the currently selected cell, press \"a\"."
   ]
  },
  {
   "cell_type": "markdown",
   "metadata": {
    "colab_type": "text",
    "id": "hs33S9y91Sfj"
   },
   "source": [
    "### Changing Cell Types\n",
    "All new cells are by default added as code cells. You may always use the Jupyter menu bar to change Cell types, but you can also use shortcuts when the cell is selected:\n",
    "<ul>\n",
    "    <li>\"m\": Markdown</li>\n",
    "    <li>\"y\": Code</li>\n",
    "</ul>\n",
    "\n",
    "If you are in a Code cell, you should see \"[]\" to the left of the cell. These brackets will not be present in a Markdown cell.\n",
    "\n",
    "<b>If you are like me, you will get in a hurry at some point this semester and accidentally hit the `r` button while a cell is selected but not editable. This will convert the cell to a `raw` format, which is a format we will not use this semester and will cause your code to work unexpectedly.</b>\n"
   ]
  },
  {
   "cell_type": "markdown",
   "metadata": {
    "colab_type": "text",
    "id": "wI9IqtFj1Sfj"
   },
   "source": [
    "### Markdown cells also allow for writing equations with LaTeX\n",
    "LaTeX is a typesetting code that is particularly powerful when typesetting mathematical formulas. Compare a very familiar equation without LaTeX: \n",
    "\n",
    "E = mc^2\n",
    "\n",
    "to the same equation using LateX:\n",
    "\n",
    "$E = mc^2$\n",
    "\n",
    "\n",
    "To signify that LaTeX's mathematical funcationality is being used, simply place the equation between two dollar signs (`$equation$`) when typing the Markdown Cell. Here are some examples of equations created with LaTeX. Double click in this cell to see the formatting commands:\n",
    "<ul>\n",
    "    <li>Subscripts: $B_c$, $B_{c0}$</li>\n",
    "    <li>Fractions: $x/y$, $\\frac{x}{y}$</li>\n",
    "    <li>Symbols: $\\Delta$, $\\pi$, $\\infty$</li>\n",
    "    <li>Exponential: $e^5$, $e^{5000}$</li>\n",
    "</ul>\n",
    "\n",
    "Much more on LaTeX math can be found at: https://artofproblemsolving.com/wiki/index.php/LaTeX:Symbols"
   ]
  },
  {
   "cell_type": "markdown",
   "metadata": {
    "colab_type": "text",
    "id": "srvk14DA1Sfk"
   },
   "source": [
    "### Adding images in Markdown\n",
    "\n",
    "There are a number of ways to add images with Markdown. Perhaps the easiest is to link to an image already on the web. Double click on this cell to see how easy it is to add an image. If you find yourself needing to add an image, simply copy the code below and edit accordingly.\n",
    "\n",
    "![John Cleese](https://m.media-amazon.com/images/M/MV5BODYzZWU2MmItMDYzNS00OGJjLWE4NTAtYjMyZjBiNTY5OTcxXkEyXkFqcGdeQXVyNTAyNDQ2NjI@._V1_SY1000_CR0,0,1493,1000_AL_.jpg)\n",
    "\n",
    "John Cleese as Tim the Enchanter from \"Monty Python and the Holy Grail\", https://www.imdb.com/title/tt0071853/mediaviewer/rm1556617984. \n",
    "\n",
    "Fun fact, the name Python was inspired by the Monty Python comedy team (more specifically, the Flying Circus television series)."
   ]
  },
  {
   "cell_type": "markdown",
   "metadata": {
    "colab_type": "text",
    "id": "gS6p8KTt1Sfl"
   },
   "source": [
    "<a id='FirstPythonCode'></a>\n",
    "# II. First Python code\n"
   ]
  },
  {
   "cell_type": "markdown",
   "metadata": {
    "colab_type": "text",
    "id": "DIrsiHop1Sfl"
   },
   "source": [
    "### Code Cells\n",
    "Code cells run the computer language as determined by the Kernel selected in Jupyter. The current active kernel is in the upper-right corner of the screen. We are going to use Python 3 almost exclusively in this course."
   ]
  },
  {
   "cell_type": "markdown",
   "metadata": {
    "colab_type": "text",
    "id": "U8jRbEtu1Sfm"
   },
   "source": [
    "Let's start with the classic coding problem where we print the words \"Hello World!\". Run the following code, and then think about what is happening here."
   ]
  },
  {
   "cell_type": "code",
   "execution_count": null,
   "metadata": {
    "colab": {},
    "colab_type": "code",
    "id": "SvgEsoOw1Sfn"
   },
   "outputs": [],
   "source": [
    "print(\"Hello World!\")\n",
    "# this is a comment"
   ]
  },
  {
   "cell_type": "markdown",
   "metadata": {
    "colab_type": "text",
    "id": "7EtBdCZT1Sfp"
   },
   "source": [
    "<ul>\n",
    "    <li> print() is a function that acts on the argument between the parentheses.</li>\n",
    "    <li> \"Hello World!\" is the argument (also referred to as a parameter) input into the function.</li>\n",
    "    <li> # is used to define a comment; it does not impact the Python code but is a good way to add brief thoughts regarding your Python code</li>\n",
    "</ul>"
   ]
  },
  {
   "cell_type": "markdown",
   "metadata": {
    "colab_type": "text",
    "id": "qFjTJQKM1Sfq"
   },
   "source": [
    "### Variables\n",
    "Note that we could also define \"Hello World!\" as a variable."
   ]
  },
  {
   "cell_type": "code",
   "execution_count": null,
   "metadata": {
    "colab": {},
    "colab_type": "code",
    "id": "TelhHy1Z1Sfr"
   },
   "outputs": [],
   "source": [
    "x = \"Hello World!\"\n",
    "print(x)"
   ]
  },
  {
   "cell_type": "markdown",
   "metadata": {
    "colab_type": "text",
    "id": "qPsv-WrI1Sfu"
   },
   "source": [
    "It is important to keep track of the variable type, which can be determined with the function *type()*."
   ]
  },
  {
   "cell_type": "code",
   "execution_count": null,
   "metadata": {
    "colab": {},
    "colab_type": "code",
    "id": "Q2BJJ2uj1Sfu"
   },
   "outputs": [],
   "source": [
    "type(x)"
   ]
  },
  {
   "cell_type": "markdown",
   "metadata": {
    "colab_type": "text",
    "id": "jzWtqvTW1Sfw"
   },
   "source": [
    "In this case, *x* is a string. When defining a string variable, use quotations, either \"string\" or 'string' will work."
   ]
  },
  {
   "cell_type": "code",
   "execution_count": null,
   "metadata": {
    "colab": {},
    "colab_type": "code",
    "id": "Uoo1AKuw1Sfx"
   },
   "outputs": [],
   "source": [
    "x = \"Hello World!!!!!!!!!\"\n",
    "print(x)\n",
    "type(x)"
   ]
  },
  {
   "cell_type": "markdown",
   "metadata": {
    "colab_type": "text",
    "id": "HDWsBkcK1Sfz"
   },
   "source": [
    "What if quotation marks aren't used?"
   ]
  },
  {
   "cell_type": "code",
   "execution_count": null,
   "metadata": {
    "colab": {},
    "colab_type": "code",
    "id": "mVTjwaMn1Sfz"
   },
   "outputs": [],
   "source": [
    "x = Hello World!"
   ]
  },
  {
   "cell_type": "markdown",
   "metadata": {
    "colab_type": "text",
    "id": "Jk_yfSPW1Sf1"
   },
   "source": [
    "The error that occurs is a common one, syntax error. Syntax is the set of rules that define a programming language- trying to define a string without quotation marks is against the rules of Python.\n",
    "\n",
    "Now let's try printing the number 42."
   ]
  },
  {
   "cell_type": "code",
   "execution_count": null,
   "metadata": {
    "colab": {},
    "colab_type": "code",
    "id": "Dcjr84Yi1Sf1"
   },
   "outputs": [],
   "source": [
    "x = 42\n",
    "print(x)\n",
    "type(x)"
   ]
  },
  {
   "cell_type": "code",
   "execution_count": null,
   "metadata": {},
   "outputs": [],
   "source": [
    "# experimenting with data types\n",
    "x = 42/10\n",
    "print(x)\n",
    "type(x)"
   ]
  },
  {
   "cell_type": "markdown",
   "metadata": {
    "colab_type": "text",
    "id": "yB030L2d1Sf3"
   },
   "source": [
    "This still works, but the type is not a string but rather an integer. No problem, until we try to print a sentence with the number 42 embedded."
   ]
  },
  {
   "cell_type": "code",
   "execution_count": null,
   "metadata": {
    "colab": {},
    "colab_type": "code",
    "id": "SQQoElNK1Sf4"
   },
   "outputs": [],
   "source": [
    "x = 42\n",
    "print('My favorite number is '+x)"
   ]
  },
  {
   "cell_type": "markdown",
   "metadata": {
    "colab_type": "text",
    "id": "lYg21hef1Sf6"
   },
   "source": [
    "It is easy to switch variable types, and often necessary depending on your purposes. In this case, we will use the function str(), which will convert integers to strings (amongst other things).  "
   ]
  },
  {
   "cell_type": "code",
   "execution_count": null,
   "metadata": {
    "colab": {},
    "colab_type": "code",
    "id": "RhHAFsGG1Sf6"
   },
   "outputs": [],
   "source": [
    "# add two strings together, must convert\n",
    "x = 42\n",
    "print('My favorite number is ' +str(x))"
   ]
  },
  {
   "cell_type": "markdown",
   "metadata": {},
   "source": [
    "Understanding your datatypes is critical, because your code may work if you have the wrong datatype, just not as intended. Consider the following codes, which both give a result."
   ]
  },
  {
   "cell_type": "code",
   "execution_count": null,
   "metadata": {},
   "outputs": [],
   "source": [
    "# this code will add the integers 42 and 43 together\n",
    "x = 42\n",
    "y = 43\n",
    "print(x+y)"
   ]
  },
  {
   "cell_type": "code",
   "execution_count": null,
   "metadata": {},
   "outputs": [],
   "source": [
    "# this code, conversely, concatenates two strings together\n",
    "x = str(42)\n",
    "y = str(43)\n",
    "print(str(x)+str(y))"
   ]
  },
  {
   "cell_type": "markdown",
   "metadata": {
    "colab_type": "text",
    "id": "CwsoVUnl1Sf9"
   },
   "source": [
    "Python 3 introduced an alternative to printing statements that include both strings and integers that does not require conversions, as shown below."
   ]
  },
  {
   "cell_type": "code",
   "execution_count": null,
   "metadata": {
    "colab": {},
    "colab_type": "code",
    "id": "ps7Z-SXe1Sf_"
   },
   "outputs": [],
   "source": [
    "# can also print with different data types\n",
    "# in this case, print(string,integer)\n",
    "x = 42\n",
    "print('My favorite number is',x)"
   ]
  },
  {
   "cell_type": "markdown",
   "metadata": {},
   "source": [
    "What if I am not dealing with an integer, but a float (which has a decimal associated with it)? "
   ]
  },
  {
   "cell_type": "code",
   "execution_count": null,
   "metadata": {},
   "outputs": [],
   "source": [
    "# can also print with different data types\n",
    "# in this case, print(string,float)\n",
    "x = 42.3\n",
    "print('My favorite number is',x)"
   ]
  },
  {
   "cell_type": "markdown",
   "metadata": {
    "colab_type": "text",
    "id": "7VjDbsX91SgK"
   },
   "source": [
    "<a id='IntFloat'></a>\n",
    "# III. Integers and Floats\n",
    "We have already seen three different variable types, integers, floats, and strings. Let's focus on integers and floats (and associated arithmetic operations)"
   ]
  },
  {
   "cell_type": "code",
   "execution_count": null,
   "metadata": {
    "colab": {},
    "colab_type": "code",
    "id": "-Br21Sen1SgL"
   },
   "outputs": [],
   "source": [
    "#integer\n",
    "x = 5\n",
    "type(x)"
   ]
  },
  {
   "cell_type": "code",
   "execution_count": null,
   "metadata": {
    "colab": {},
    "colab_type": "code",
    "id": "O8lLwtIJ1SgP"
   },
   "outputs": [],
   "source": [
    "#float\n",
    "x = 4.\n",
    "type(x)"
   ]
  },
  {
   "cell_type": "markdown",
   "metadata": {
    "colab_type": "text",
    "id": "VBY1DbOl1SgR"
   },
   "source": [
    "You might have noticed by now that we have defined and redefined the variable x a number of times. Python variables are dynamic, and can change multiple times throughout a code. It is prudent to keep track of the variable type, particularly because some functions require an integer or a float as an argument. See the code below to see how easy it is for a variable to change from an integer to a float."
   ]
  },
  {
   "cell_type": "code",
   "execution_count": null,
   "metadata": {
    "colab": {},
    "colab_type": "code",
    "id": "XToFOo9u1SgR"
   },
   "outputs": [],
   "source": [
    "# we assign x as an integer\n",
    "x = 5\n",
    "print(x,type(x))\n",
    "y = 2\n",
    "x = x/y\n",
    "# after operations, x has become a float\n",
    "print(x,type(x))"
   ]
  },
  {
   "cell_type": "markdown",
   "metadata": {
    "colab_type": "text",
    "id": "N3cINTDl1SgS"
   },
   "source": [
    "<a id='ModPackLib'></a>\n",
    "# IV. Modules, Packages, and Libraries\n",
    "Basic Python is actually rather limited in its mathematical capabilities (see below for a list of arithmetic operations in basic Python). "
   ]
  },
  {
   "cell_type": "markdown",
   "metadata": {
    "colab_type": "text",
    "id": "2WENVt9W1SgT"
   },
   "source": [
    "### Basic arithmetic operations\n",
    "\n",
    "Standard python recognizes basic mathematical operations\n",
    "\n",
    "|Operator | Description | Example|\n",
    "|--------|--------|--------|\n",
    "| `+` | Addition | `11+2` |\n",
    "| `-` | Subtraction | `11-2` |\n",
    "| `*` | Multiplication | `11*2`|\n",
    "| `/` | Division | `11/2` |\n",
    "| `**` | Exponentiation/power calculation | `2**3`|\n",
    "| `%` | Modulus | `11%2` |\n",
    "| `//` | Integer Division | `11//2` |\n",
    "\n"
   ]
  },
  {
   "cell_type": "markdown",
   "metadata": {
    "colab_type": "text",
    "id": "860VEln21SgU"
   },
   "source": [
    "What if we want to evaluate something slightly more complicated, but still within the capabilities of a cheap scientific calculator:\n",
    "$y = sin(\\pi)$"
   ]
  },
  {
   "cell_type": "code",
   "execution_count": null,
   "metadata": {
    "colab": {},
    "colab_type": "code",
    "id": "IdBOZyxQ1SgU"
   },
   "outputs": [],
   "source": [
    "# pi() is not a function in basic Python\n",
    "x = pi()"
   ]
  },
  {
   "cell_type": "code",
   "execution_count": null,
   "metadata": {
    "colab": {},
    "colab_type": "code",
    "id": "7hk37Iwh1SgW"
   },
   "outputs": [],
   "source": [
    "# neither is sin()\n",
    "y = sin(3.14)"
   ]
  },
  {
   "cell_type": "markdown",
   "metadata": {
    "colab_type": "text",
    "id": "T1IFdIdk1SgX"
   },
   "source": [
    "However, Python has numerous packages, libraries, and modules to supplement the basic language. For now, there is no need to concern yourself with the differences between the three- they are all brought into Python the same way. There is a large Python community that develops and maintains modules, packages, and libraries.\n",
    "\n",
    "Let's import the math module. For more on the math module, see: https://docs.python.org/3.7/library/math.html"
   ]
  },
  {
   "cell_type": "code",
   "execution_count": null,
   "metadata": {
    "colab": {},
    "colab_type": "code",
    "id": "zuEA38pY1SgY"
   },
   "outputs": [],
   "source": [
    "import math"
   ]
  },
  {
   "cell_type": "markdown",
   "metadata": {
    "colab_type": "text",
    "id": "0gQ6UA-H1SgZ"
   },
   "source": [
    "To use the math module (or any module, library, package), you need to type `math.function()` or `math.constant`. Since pi is a constant, we type `math.pi` "
   ]
  },
  {
   "cell_type": "code",
   "execution_count": null,
   "metadata": {
    "colab": {},
    "colab_type": "code",
    "id": "1eN8YdK71Sga"
   },
   "outputs": [],
   "source": [
    "x = math.pi\n",
    "print(x)"
   ]
  },
  {
   "cell_type": "markdown",
   "metadata": {
    "colab_type": "text",
    "id": "MWlnrfvc1Sgb"
   },
   "source": [
    "To calculate sine, we now need to use y = math.sin()"
   ]
  },
  {
   "cell_type": "code",
   "execution_count": null,
   "metadata": {
    "colab": {},
    "colab_type": "code",
    "id": "yT7tVI7u1Sgc",
    "outputId": "d80d46f7-5392-464e-9413-1272f63ceeb9"
   },
   "outputs": [],
   "source": [
    "x = math.pi\n",
    "y = math.sin(x)\n",
    "print(y)"
   ]
  },
  {
   "cell_type": "markdown",
   "metadata": {},
   "source": [
    "<a id='Lists'></a>\n",
    "# V. Lists\n",
    "Recommended Resources: \n",
    "https://www.geeksforgeeks.org/python-list/"
   ]
  },
  {
   "cell_type": "markdown",
   "metadata": {},
   "source": [
    "This semester, we are going to work a lot with time-series data, which can be stored in Python as a sequence of values. There are many types of sequences in Python; you have already seen one of those (strings). In this notebook, we are going to focus on one of the most versatile Python sequences, the list.\n",
    "\n",
    "We actually won't work with lists too much this semester, we will be moving on fairly quickly to the more powerful Data Series. However, it is important to have some understanding of what lists actually are first. "
   ]
  },
  {
   "cell_type": "markdown",
   "metadata": {},
   "source": [
    "Lists are created by inserting a sequence of comma-separated values between square brackets, as follows:"
   ]
  },
  {
   "cell_type": "code",
   "execution_count": null,
   "metadata": {},
   "outputs": [],
   "source": [
    "testlist = [1,2,3]\n",
    "print(testlist)"
   ]
  },
  {
   "cell_type": "markdown",
   "metadata": {},
   "source": [
    "Note that lists are rather versatile, and can contain any combination of integers, floats, strings, etc."
   ]
  },
  {
   "cell_type": "code",
   "execution_count": null,
   "metadata": {},
   "outputs": [],
   "source": [
    "testlist = [1,2.0,'three']\n",
    "print(testlist)"
   ]
  },
  {
   "cell_type": "markdown",
   "metadata": {},
   "source": [
    "Recall that it is useful to check data types when troubleshooting code. You may want to determine that you are indeed working with a list, or that all entries in a list are of the same data type."
   ]
  },
  {
   "cell_type": "code",
   "execution_count": null,
   "metadata": {},
   "outputs": [],
   "source": [
    "# confirm that the data type is list\n",
    "testlist = [1,2.0,'three']\n",
    "type(testlist)"
   ]
  },
  {
   "cell_type": "code",
   "execution_count": null,
   "metadata": {},
   "outputs": [],
   "source": [
    "# confirm the data type of the first entry in the list\n",
    "# Recall that Python is 0-indexed\n",
    "testlist = [1.0,2,'three']\n",
    "print(testlist[-2])\n",
    "type(testlist[-2])"
   ]
  },
  {
   "cell_type": "markdown",
   "metadata": {},
   "source": [
    "There are a number of actions that we can perform on lists. The following example shows how to append the integer 4 to our testlist."
   ]
  },
  {
   "cell_type": "code",
   "execution_count": null,
   "metadata": {},
   "outputs": [],
   "source": [
    "testlist = [1,2,3]\n",
    "print(testlist)\n",
    "testlist.append(4)\n",
    "print(testlist)"
   ]
  },
  {
   "cell_type": "markdown",
   "metadata": {},
   "source": [
    "Append is what we refer to as a <b>method</b>, which is similar to a function. Unlike a function, which would create a new list, methods act directly on an object (in this case, testlist). \n",
    "\n",
    "<b>Be cautious when using methods, because they often change your original data.</b>"
   ]
  },
  {
   "cell_type": "markdown",
   "metadata": {},
   "source": [
    "### Practice exercise"
   ]
  },
  {
   "cell_type": "markdown",
   "metadata": {},
   "source": [
    "Calculate the mean and median from the following list. \n",
    "\n",
    "Hint 1: you should rely on an existing Python package.\n",
    "\n",
    "Hint 2: Google is your friend.\n",
    "\n",
    "<b>Give this a try on your own, then check out this video of my walkthrough of the solution:</b> https://mediaspace.illinois.edu/media/t/1_3upyaz0s"
   ]
  },
  {
   "cell_type": "code",
   "execution_count": null,
   "metadata": {},
   "outputs": [],
   "source": [
    "# list to perform statistics on\n",
    "statlist = [100, 102.1, 250, 110.3, 99.12, 98]"
   ]
  },
  {
   "cell_type": "code",
   "execution_count": null,
   "metadata": {},
   "outputs": [],
   "source": [
    "# Write code here\n",
    "\n",
    "\n",
    "\n",
    "\n",
    "\n",
    "\n",
    "\n",
    "\n",
    "\n",
    "\n",
    "\n",
    "\n",
    "\n",
    "\n",
    "\n",
    "\n",
    "\n",
    "\n",
    "\n",
    "\n",
    "\n",
    "\n",
    "\n",
    "\n"
   ]
  },
  {
   "cell_type": "code",
   "execution_count": null,
   "metadata": {},
   "outputs": [],
   "source": [
    "# Answer\n",
    "import statistics\n",
    "meanlist = statistics.mean(statlist)\n",
    "print(meanlist)"
   ]
  },
  {
   "cell_type": "markdown",
   "metadata": {},
   "source": [
    "<a id='Index'></a>\n",
    "\n",
    "# VI. Indexing and slicing\n",
    "\n",
    "We often need to access a specific value from a sequence, called <b>indexing</b>. Every element within a list has an associated number, so we simply have to call that number to extract the element value. That sounds easy. Let's try extracting the first value from the list below (`[1, 2, 3]`). If I didn't know any better, I would guess that the first value in the list would be defined at the index value of 1. I can call this index value by writing the index-value within closed brackets immediately following the name of a pre-defined list (such as `examplelist[1]`):"
   ]
  },
  {
   "cell_type": "code",
   "execution_count": null,
   "metadata": {},
   "outputs": [],
   "source": [
    "testlist = [1,2,3]\n",
    "testlist[1]"
   ]
  },
  {
   "cell_type": "markdown",
   "metadata": {},
   "source": [
    "<b>Wait, what?</b> If you are used to coding in other languages, you might have expeted that the value at index 1 would be the first value in the list, which is also 1. However, this actually returns the value 2. <b>Remember that Python is 0-indexed, so to return the first value in a list, you need to access index 0.</b> "
   ]
  },
  {
   "cell_type": "code",
   "execution_count": null,
   "metadata": {},
   "outputs": [],
   "source": [
    "# this indexing is correct if trying to access the first value in the list\n",
    "testlist[0]"
   ]
  },
  {
   "cell_type": "markdown",
   "metadata": {},
   "source": [
    "To extract the last value, you need to access index-2, one less than the length of the list."
   ]
  },
  {
   "cell_type": "code",
   "execution_count": null,
   "metadata": {},
   "outputs": [],
   "source": [
    "testlist[2]"
   ]
  },
  {
   "cell_type": "markdown",
   "metadata": {},
   "source": [
    "If you don't know how long your list actually is, you can use the function `len()`, but since we are zero indexed, you will need to subtract one to extract that last value."
   ]
  },
  {
   "cell_type": "code",
   "execution_count": null,
   "metadata": {},
   "outputs": [],
   "source": [
    "testlist = [1,2,3]\n",
    "testlist[len(testlist)-1]"
   ]
  },
  {
   "cell_type": "markdown",
   "metadata": {},
   "source": [
    "Trying to access index-3 will result in a `IndexError` if the list only contains three values."
   ]
  },
  {
   "cell_type": "code",
   "execution_count": null,
   "metadata": {},
   "outputs": [],
   "source": [
    "testlist[3]"
   ]
  },
  {
   "cell_type": "markdown",
   "metadata": {},
   "source": [
    "A handy trick is that Python uses negative indices to count backward, so you can also access the -1 index to return the last value in a list."
   ]
  },
  {
   "cell_type": "code",
   "execution_count": null,
   "metadata": {},
   "outputs": [],
   "source": [
    "testlist[-1]"
   ]
  },
  {
   "cell_type": "markdown",
   "metadata": {},
   "source": [
    "Often a coder needs to access multiple values of a list, called slicing. Let's slice out the first two values. This is done like indexing, but rather than a single value between the square brackets, the coder defines start:end instead. \n",
    "\n",
    "Since we are slicing the first two values, you might expect the following to work:"
   ]
  },
  {
   "cell_type": "code",
   "execution_count": null,
   "metadata": {},
   "outputs": [],
   "source": [
    "# this code is incorrect if trying to slice out the first two values in a list\n",
    "testlist[0:1]"
   ]
  },
  {
   "cell_type": "markdown",
   "metadata": {},
   "source": [
    "The above code returns a list (hence the square brackets in the output), but only one value within the list, the first one. The correct code is to write `testlist[0:2]` to return a list with only the first two values:"
   ]
  },
  {
   "cell_type": "code",
   "execution_count": null,
   "metadata": {},
   "outputs": [],
   "source": [
    "# this indexing is correct if trying to slice out the first two values in a list\n",
    "testlist[0:2]"
   ]
  },
  {
   "cell_type": "code",
   "execution_count": null,
   "metadata": {},
   "outputs": [],
   "source": [
    "# here is another example, using zero indexing, that slices out the middle two values of a list\n",
    "testlist = ['G','E','E','K']\n",
    "testlist[-3:-1]"
   ]
  },
  {
   "cell_type": "markdown",
   "metadata": {},
   "source": [
    "The following image clarifies how slicing works, only in this case it is working on strings rather than lists (since both are sequences, the same principle applies for both). When slicing, the start value indicates the tick mark defining the start of the slice, while the end value indicates the tick mark defining the end of the slice. In this case, slicing from 3:8 would return 'KSFOR'. \n",
    "\n",
    "![Image of slicing](https://media.geeksforgeeks.org/wp-content/uploads/List-Slicing.jpg)\n",
    "\n",
    "Image from https://www.geeksforgeeks.org/python-list/. \n",
    "\n",
    "Let's code it up to confirm."
   ]
  },
  {
   "cell_type": "code",
   "execution_count": null,
   "metadata": {},
   "outputs": [],
   "source": [
    "# Define the string\n",
    "teststring = 'GEEKSFORGEEKS'\n",
    "\n",
    "# Practice with slicing\n",
    "teststring[3:8]"
   ]
  },
  {
   "cell_type": "markdown",
   "metadata": {},
   "source": [
    "Note that when slicing, from the begining of a string to some specified point, you don't have to type the 0-index. Similarly, you don't have to type the last index when slicing a section at the end of a sequence (string, list).\n",
    "\n",
    "The latter is particularly useful if a coder does not know apriori how long the list is going to be, or if it changes size throughout your code."
   ]
  },
  {
   "cell_type": "code",
   "execution_count": null,
   "metadata": {},
   "outputs": [],
   "source": [
    "#compare the following code.....\n",
    "teststring[3:13]"
   ]
  },
  {
   "cell_type": "code",
   "execution_count": null,
   "metadata": {},
   "outputs": [],
   "source": [
    "# ..... to this code\n",
    "teststring[3:]"
   ]
  },
  {
   "cell_type": "markdown",
   "metadata": {},
   "source": [
    "### Practice problems for outside of class\n",
    "Consider the list defined below. In the following code cells, perform the indexing or slicing as instructed in the comment of that cell.\n",
    "\n",
    "<b>Give this a try on your own, then check out this video of my walkthrough of the solution:</b> https://mediaspace.illinois.edu/media/t/1_oh06a1pj"
   ]
  },
  {
   "cell_type": "code",
   "execution_count": null,
   "metadata": {},
   "outputs": [],
   "source": [
    "# do not code in this cell, it defines your list for this problem\n",
    "testlist = [1,3,5,9,12,190,320]"
   ]
  },
  {
   "cell_type": "code",
   "execution_count": null,
   "metadata": {},
   "outputs": [],
   "source": [
    "# access the 4th value of testlist using positive indexing\n"
   ]
  },
  {
   "cell_type": "code",
   "execution_count": null,
   "metadata": {},
   "outputs": [],
   "source": [
    "# access the 4th value of testlist using negative indexing"
   ]
  },
  {
   "cell_type": "code",
   "execution_count": null,
   "metadata": {},
   "outputs": [],
   "source": [
    "# access the last three values of testlist using positive slicing"
   ]
  },
  {
   "cell_type": "code",
   "execution_count": null,
   "metadata": {},
   "outputs": [],
   "source": [
    "# access the last three values of testlist using negative slicing"
   ]
  },
  {
   "cell_type": "code",
   "execution_count": null,
   "metadata": {},
   "outputs": [],
   "source": [
    "# using slicing, return a list without the first and last values of testlist\n",
    "\n",
    "\n",
    "\n",
    "\n",
    "\n",
    "\n",
    "\n",
    "\n",
    "\n",
    "\n",
    "\n",
    "\n",
    "\n",
    "\n",
    "\n",
    "\n",
    "\n",
    "\n",
    "\n",
    "\n",
    "\n",
    "\n",
    "\n",
    "\n",
    "\n",
    "\n",
    "\n",
    "\n",
    "\n",
    "\n",
    "\n",
    "\n"
   ]
  },
  {
   "cell_type": "markdown",
   "metadata": {},
   "source": [
    "### Practice problems for outside of class (Answers)"
   ]
  },
  {
   "cell_type": "code",
   "execution_count": null,
   "metadata": {},
   "outputs": [],
   "source": [
    "# access the 4th value of testlist using positive indexing\n",
    "testlist[3]"
   ]
  },
  {
   "cell_type": "code",
   "execution_count": null,
   "metadata": {},
   "outputs": [],
   "source": [
    "# access the 4th value of testlist using negative indexing\n",
    "testlist[-4]"
   ]
  },
  {
   "cell_type": "code",
   "execution_count": null,
   "metadata": {},
   "outputs": [],
   "source": [
    "# access the last three values of testlist using positive slicing\n",
    "testlist[4:]"
   ]
  },
  {
   "cell_type": "code",
   "execution_count": null,
   "metadata": {},
   "outputs": [],
   "source": [
    "# access the last three values of testlist using negative slicing\n",
    "testlist[-3:]"
   ]
  },
  {
   "cell_type": "code",
   "execution_count": null,
   "metadata": {},
   "outputs": [],
   "source": [
    "# using slicing, return a list without the first and last values of testlist\n",
    "testlist[1:-1]"
   ]
  },
  {
   "cell_type": "markdown",
   "metadata": {},
   "source": [
    "<a id='LoopList'></a>\n",
    "\n",
    "# VII. Looping through lists\n",
    "Loops iterate over a sequence of numbers, either a specified number of times or when a specific condition is met. Loops are particularly simple when working with lists, because you can loop directly through the entries. This is much simpler than other codes, where loops require iterators and more stringent coding structure. \n",
    "\n",
    "### For loops\n",
    "For-loops run through a range of values. The syntax for a for-loop is shown below.\n",
    "\n",
    "`for` defines that this is a for for-loop. It means that for a given value within a loop, an operation will be performed. That operation is defined within the loop by indented lines of code. It is critical that indentation is consistent throughout the for loop (and preferably throughout the code). The end of indentation assigns the end of a loop. \n",
    "\n",
    "`x` is the value that will be subject to the operations within the for loop. In the example below, x will simply be printed.\n",
    "\n",
    "Think about the following code, then run the cell. Did it do what you expected?"
   ]
  },
  {
   "cell_type": "code",
   "execution_count": null,
   "metadata": {},
   "outputs": [],
   "source": [
    "testlist = [9, 2, 3, 4, 5, 6]\n",
    "for x in testlist:\n",
    "    print(x)"
   ]
  },
  {
   "cell_type": "markdown",
   "metadata": {},
   "source": [
    "The results aren't overly impressive, but this is actually a fundamentally critical coding step to understand. You will use many loops throughout this semester. The fact that we could print a value within the loop is helpful, because we can perform a large number of operations on that value as well. "
   ]
  },
  {
   "cell_type": "markdown",
   "metadata": {},
   "source": [
    "### Example Problem: Unit Conversion\n",
    "\n",
    "Most of the data that I use is in Imperial Units rather than Metric for purposes of communicating with stakeholders in Illinois. However, sometimes I need to communicate Illinois issues with an international audience. The following codes attempt to convert the heads in the following list from feet to meters. "
   ]
  },
  {
   "cell_type": "markdown",
   "metadata": {},
   "source": [
    "First, I want to try something simple. I am going to try to perform a scalar operation on the list, which shows heads in an aquifer in feet. I am hoping that this will divide each element by the scalar (`3.28`) to convert feet to meters. "
   ]
  },
  {
   "cell_type": "code",
   "execution_count": null,
   "metadata": {},
   "outputs": [],
   "source": [
    "# this does not work\n",
    "\n",
    "heads_ft = [682.2, 284.94, 492.6, 780.5] # heads in feet\n",
    "\n",
    "heads_m = heads_ft/3.28\n",
    "\n",
    "print(heads_m)"
   ]
  },
  {
   "cell_type": "markdown",
   "metadata": {},
   "source": [
    "Unfortunately, that did not work. We will quickly be transitioning to data series, which will allow more robust scalar operations like I just tried to do. However, for now, we need to find another way while still using lists.\n",
    "\n",
    "For the next possible solution, I am going to create an empty list with a unique name. I am then going to loop through each of the entries in heads_ft, convert the value from feet to meters, and append that to the empty list. This time, success!!!!!"
   ]
  },
  {
   "cell_type": "code",
   "execution_count": null,
   "metadata": {},
   "outputs": [],
   "source": [
    "# this is one possible solution (using the append method to create a new list)\n",
    "\n",
    "heads_ft = [682.2, 284.94, 492.6, 780.5] # heads in feet\n",
    "\n",
    "heads_m = []\n",
    "\n",
    "for value in heads_ft:\n",
    "    heads_m.append(value/3.28)\n",
    "    \n",
    "print(heads_m)\n"
   ]
  },
  {
   "cell_type": "markdown",
   "metadata": {},
   "source": [
    "Many people familiar with Python write their code in shorthand using list comprehensions. This allows you to define a new list by embedding the for loop between brackets. To do this, you first type the operation you are conducting within the loop (`value/3.28`) and then type the loop command itself (`for value in heads_ft`). "
   ]
  },
  {
   "cell_type": "code",
   "execution_count": null,
   "metadata": {},
   "outputs": [],
   "source": [
    "# and another solution, using a list comprehension\n",
    "heads_m = [value/3.28 for value in heads_ft]\n",
    "print(heads_m)"
   ]
  },
  {
   "cell_type": "markdown",
   "metadata": {},
   "source": [
    "This is pretty slick to condense code, and many people call this `Pythonic`. However, writing something Pythonic can also be hard to read, especially if you are just starting to code. Since this is an applied course, I don't care how you design your code as long as it leads to the correct answer. Within reason, anyway. There are specific things that you want to avoid, but we will discuss that as the semester goes along or if I see bad habits popping up in the homework."
   ]
  },
  {
   "cell_type": "markdown",
   "metadata": {},
   "source": [
    "### Practice Problem: Gallons per year to Cubic Feet per day\n",
    "As we will find out later this semester, groundwater flow models require consistent use of length and time units. Most of the models at the ISWS are in units of $ft$ and $days$, meaning that pumpage has to be assigned as $ft^3/d$. However, pumpage is generally reported to the ISWS by communities as gallons per year.\n",
    "\n",
    "Convert the following reported units ($gallons/year$) to model-ready units ($ft^3/d$).\n",
    "\n",
    "<b>Give this a try on your own, then check out this video of my walkthrough of the solution:</b> https://mediaspace.illinois.edu/media/t/1_ypqarc9x"
   ]
  },
  {
   "cell_type": "code",
   "execution_count": null,
   "metadata": {},
   "outputs": [],
   "source": [
    "# pumpage in gallons per year\n",
    "gpy = [10000000, 32892902, 32890183010, 3801329, 389201473]\n",
    "\n",
    "\n",
    "\n",
    "\n",
    "\n",
    "\n",
    "\n",
    "\n",
    "\n",
    "\n",
    "\n",
    "\n",
    "\n",
    "\n",
    "\n",
    "\n",
    "\n",
    "\n",
    "\n",
    "\n",
    "\n",
    "\n",
    "\n",
    "\n",
    "\n",
    "\n",
    "\n",
    "\n",
    "\n",
    "\n",
    "\n"
   ]
  },
  {
   "cell_type": "code",
   "execution_count": null,
   "metadata": {},
   "outputs": [],
   "source": [
    "# Answer\n",
    "cfd = [0.133681*x/365.25 for x in gpy]\n",
    "print(cfd)"
   ]
  }
 ],
 "metadata": {
  "colab": {
   "include_colab_link": true,
   "name": "Week_1_Python_Lecture.ipynb",
   "provenance": []
  },
  "kernelspec": {
   "display_name": "Python 3",
   "language": "python",
   "name": "python3"
  },
  "language_info": {
   "codemirror_mode": {
    "name": "ipython",
    "version": 3
   },
   "file_extension": ".py",
   "mimetype": "text/x-python",
   "name": "python",
   "nbconvert_exporter": "python",
   "pygments_lexer": "ipython3",
   "version": "3.8.5"
  }
 },
 "nbformat": 4,
 "nbformat_minor": 1
}
